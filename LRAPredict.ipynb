{
 "cells": [
  {
   "cell_type": "code",
   "execution_count": null,
   "metadata": {},
   "outputs": [],
   "source": [
    "# Use seaborn for pairplot\n",
    "!pip install seaborn"
   ]
  },
  {
   "cell_type": "code",
   "execution_count": 1,
   "metadata": {},
   "outputs": [
    {
     "name": "stdout",
     "output_type": "stream",
     "text": [
      "1.14.0\n"
     ]
    }
   ],
   "source": [
    "from __future__ import absolute_import, division, print_function, unicode_literals\n",
    "\n",
    "import pathlib\n",
    "import numpy as np\n",
    "\n",
    "import matplotlib.pyplot as plt\n",
    "import pandas as pd\n",
    "import seaborn as sns\n",
    "\n",
    "import tensorflow as tf\n",
    "from tensorflow import keras\n",
    "from tensorflow.keras import layers\n",
    "\n",
    "print(tf.__version__)"
   ]
  },
  {
   "cell_type": "code",
   "execution_count": 2,
   "metadata": {},
   "outputs": [],
   "source": [
    "column_names = ['CUSTOMER', 'ZTERM', 'CASH_DISCOUNT_DAY1', 'CASH_DISCOUNT_DAY2', 'CASH_DISCOUNT_PER', \n",
    "                'DUE_DAYS_PLUS', 'T052_CASH_DISCOUNT_PER_01', 'AMOUNT_PERCENTAGE_CREDIT_LIMIT', \n",
    "               'T052_CASH_DISCOUNT_DAY1', 'T052_CASH_DISCOUNT_DAY2', 'DAYS_OVER_NET_DUE_DATE', \n",
    "                'DAYS_BEYOND_DISCOUNT_2', 'CUSTOMER_CREDIT_LIMIT', 'DISCOUNT_AMOUNT_ELIGIBLE',\n",
    "               'AMOUNT_BSAD']"
   ]
  },
  {
   "cell_type": "code",
   "execution_count": 3,
   "metadata": {},
   "outputs": [
    {
     "data": {
      "text/html": [
       "<div>\n",
       "<style scoped>\n",
       "    .dataframe tbody tr th:only-of-type {\n",
       "        vertical-align: middle;\n",
       "    }\n",
       "\n",
       "    .dataframe tbody tr th {\n",
       "        vertical-align: top;\n",
       "    }\n",
       "\n",
       "    .dataframe thead th {\n",
       "        text-align: right;\n",
       "    }\n",
       "</style>\n",
       "<table border=\"1\" class=\"dataframe\">\n",
       "  <thead>\n",
       "    <tr style=\"text-align: right;\">\n",
       "      <th></th>\n",
       "      <th>CUSTOMER</th>\n",
       "      <th>ZTERM</th>\n",
       "      <th>CASH_DISCOUNT_DAY1</th>\n",
       "      <th>CASH_DISCOUNT_DAY2</th>\n",
       "      <th>CASH_DISCOUNT_PER</th>\n",
       "      <th>DUE_DAYS_PLUS</th>\n",
       "      <th>T052_CASH_DISCOUNT_PER_01</th>\n",
       "      <th>AMOUNT_PERCENTAGE_CREDIT_LIMIT</th>\n",
       "      <th>T052_CASH_DISCOUNT_DAY1</th>\n",
       "      <th>T052_CASH_DISCOUNT_DAY2</th>\n",
       "      <th>DAYS_OVER_NET_DUE_DATE</th>\n",
       "      <th>DAYS_BEYOND_DISCOUNT_2</th>\n",
       "      <th>CUSTOMER_CREDIT_LIMIT</th>\n",
       "      <th>DISCOUNT_AMOUNT_ELIGIBLE</th>\n",
       "      <th>AMOUNT_BSAD</th>\n",
       "    </tr>\n",
       "  </thead>\n",
       "  <tbody>\n",
       "    <tr>\n",
       "      <th>0</th>\n",
       "      <td>3000123149</td>\n",
       "      <td>Z225</td>\n",
       "      <td>21</td>\n",
       "      <td>30</td>\n",
       "      <td>3</td>\n",
       "      <td>30</td>\n",
       "      <td>3</td>\n",
       "      <td>49.05</td>\n",
       "      <td>21</td>\n",
       "      <td>30</td>\n",
       "      <td>-9</td>\n",
       "      <td>-9</td>\n",
       "      <td>140000</td>\n",
       "      <td>68672.52</td>\n",
       "      <td>68672.52</td>\n",
       "    </tr>\n",
       "  </tbody>\n",
       "</table>\n",
       "</div>"
      ],
      "text/plain": [
       "     CUSTOMER ZTERM  CASH_DISCOUNT_DAY1  CASH_DISCOUNT_DAY2  \\\n",
       "0  3000123149  Z225                  21                  30   \n",
       "\n",
       "   CASH_DISCOUNT_PER  DUE_DAYS_PLUS  T052_CASH_DISCOUNT_PER_01  \\\n",
       "0                  3             30                          3   \n",
       "\n",
       "   AMOUNT_PERCENTAGE_CREDIT_LIMIT  T052_CASH_DISCOUNT_DAY1  \\\n",
       "0                           49.05                       21   \n",
       "\n",
       "   T052_CASH_DISCOUNT_DAY2  DAYS_OVER_NET_DUE_DATE  DAYS_BEYOND_DISCOUNT_2  \\\n",
       "0                       30                      -9                      -9   \n",
       "\n",
       "   CUSTOMER_CREDIT_LIMIT  DISCOUNT_AMOUNT_ELIGIBLE  AMOUNT_BSAD  \n",
       "0                 140000                  68672.52     68672.52  "
      ]
     },
     "execution_count": 3,
     "metadata": {},
     "output_type": "execute_result"
    }
   ],
   "source": [
    "newdf = pd.read_csv('lra_predict.csv',\n",
    "        header=0,\n",
    "        na_values = '0',\n",
    "        usecols=column_names,\n",
    "        comment='\\t',\n",
    "        skipinitialspace=True)\n",
    "newdf = newdf.replace(0, np.nan)\n",
    "newdataset = newdf.copy()\n",
    "newdataset.tail()"
   ]
  },
  {
   "cell_type": "code",
   "execution_count": 4,
   "metadata": {},
   "outputs": [
    {
     "data": {
      "text/plain": [
       "CUSTOMER                          0\n",
       "ZTERM                             0\n",
       "CASH_DISCOUNT_DAY1                0\n",
       "CASH_DISCOUNT_DAY2                0\n",
       "CASH_DISCOUNT_PER                 0\n",
       "DUE_DAYS_PLUS                     0\n",
       "T052_CASH_DISCOUNT_PER_01         0\n",
       "AMOUNT_PERCENTAGE_CREDIT_LIMIT    0\n",
       "T052_CASH_DISCOUNT_DAY1           0\n",
       "T052_CASH_DISCOUNT_DAY2           0\n",
       "DAYS_OVER_NET_DUE_DATE            0\n",
       "DAYS_BEYOND_DISCOUNT_2            0\n",
       "CUSTOMER_CREDIT_LIMIT             0\n",
       "DISCOUNT_AMOUNT_ELIGIBLE          0\n",
       "AMOUNT_BSAD                       0\n",
       "dtype: int64"
      ]
     },
     "execution_count": 4,
     "metadata": {},
     "output_type": "execute_result"
    }
   ],
   "source": [
    "newdataset.isna().sum()"
   ]
  },
  {
   "cell_type": "code",
   "execution_count": 5,
   "metadata": {},
   "outputs": [],
   "source": [
    "newdataset = newdataset.dropna()"
   ]
  },
  {
   "cell_type": "code",
   "execution_count": 6,
   "metadata": {},
   "outputs": [
    {
     "data": {
      "text/html": [
       "<div>\n",
       "<style scoped>\n",
       "    .dataframe tbody tr th:only-of-type {\n",
       "        vertical-align: middle;\n",
       "    }\n",
       "\n",
       "    .dataframe tbody tr th {\n",
       "        vertical-align: top;\n",
       "    }\n",
       "\n",
       "    .dataframe thead th {\n",
       "        text-align: right;\n",
       "    }\n",
       "</style>\n",
       "<table border=\"1\" class=\"dataframe\">\n",
       "  <thead>\n",
       "    <tr style=\"text-align: right;\">\n",
       "      <th></th>\n",
       "      <th>CUSTOMER</th>\n",
       "      <th>ZTERM</th>\n",
       "      <th>CASH_DISCOUNT_DAY1</th>\n",
       "      <th>CASH_DISCOUNT_DAY2</th>\n",
       "      <th>CASH_DISCOUNT_PER</th>\n",
       "      <th>DUE_DAYS_PLUS</th>\n",
       "      <th>T052_CASH_DISCOUNT_PER_01</th>\n",
       "      <th>AMOUNT_PERCENTAGE_CREDIT_LIMIT</th>\n",
       "      <th>T052_CASH_DISCOUNT_DAY1</th>\n",
       "      <th>T052_CASH_DISCOUNT_DAY2</th>\n",
       "      <th>DAYS_OVER_NET_DUE_DATE</th>\n",
       "      <th>DAYS_BEYOND_DISCOUNT_2</th>\n",
       "      <th>CUSTOMER_CREDIT_LIMIT</th>\n",
       "      <th>DISCOUNT_AMOUNT_ELIGIBLE</th>\n",
       "      <th>AMOUNT_BSAD</th>\n",
       "    </tr>\n",
       "  </thead>\n",
       "  <tbody>\n",
       "    <tr>\n",
       "      <th>0</th>\n",
       "      <td>3000123149</td>\n",
       "      <td>Z225</td>\n",
       "      <td>21</td>\n",
       "      <td>30</td>\n",
       "      <td>3</td>\n",
       "      <td>30</td>\n",
       "      <td>3</td>\n",
       "      <td>49.05</td>\n",
       "      <td>21</td>\n",
       "      <td>30</td>\n",
       "      <td>-9</td>\n",
       "      <td>-9</td>\n",
       "      <td>140000</td>\n",
       "      <td>68672.52</td>\n",
       "      <td>68672.52</td>\n",
       "    </tr>\n",
       "  </tbody>\n",
       "</table>\n",
       "</div>"
      ],
      "text/plain": [
       "     CUSTOMER ZTERM  CASH_DISCOUNT_DAY1  CASH_DISCOUNT_DAY2  \\\n",
       "0  3000123149  Z225                  21                  30   \n",
       "\n",
       "   CASH_DISCOUNT_PER  DUE_DAYS_PLUS  T052_CASH_DISCOUNT_PER_01  \\\n",
       "0                  3             30                          3   \n",
       "\n",
       "   AMOUNT_PERCENTAGE_CREDIT_LIMIT  T052_CASH_DISCOUNT_DAY1  \\\n",
       "0                           49.05                       21   \n",
       "\n",
       "   T052_CASH_DISCOUNT_DAY2  DAYS_OVER_NET_DUE_DATE  DAYS_BEYOND_DISCOUNT_2  \\\n",
       "0                       30                      -9                      -9   \n",
       "\n",
       "   CUSTOMER_CREDIT_LIMIT  DISCOUNT_AMOUNT_ELIGIBLE  AMOUNT_BSAD  \n",
       "0                 140000                  68672.52     68672.52  "
      ]
     },
     "execution_count": 6,
     "metadata": {},
     "output_type": "execute_result"
    }
   ],
   "source": [
    "newdataset"
   ]
  },
  {
   "cell_type": "code",
   "execution_count": 7,
   "metadata": {},
   "outputs": [],
   "source": [
    "ZTERMnew = newdataset.pop('ZTERM')"
   ]
  },
  {
   "cell_type": "code",
   "execution_count": 8,
   "metadata": {},
   "outputs": [
    {
     "data": {
      "text/html": [
       "<div>\n",
       "<style scoped>\n",
       "    .dataframe tbody tr th:only-of-type {\n",
       "        vertical-align: middle;\n",
       "    }\n",
       "\n",
       "    .dataframe tbody tr th {\n",
       "        vertical-align: top;\n",
       "    }\n",
       "\n",
       "    .dataframe thead th {\n",
       "        text-align: right;\n",
       "    }\n",
       "</style>\n",
       "<table border=\"1\" class=\"dataframe\">\n",
       "  <thead>\n",
       "    <tr style=\"text-align: right;\">\n",
       "      <th></th>\n",
       "      <th>CUSTOMER</th>\n",
       "      <th>CASH_DISCOUNT_DAY1</th>\n",
       "      <th>CASH_DISCOUNT_DAY2</th>\n",
       "      <th>CASH_DISCOUNT_PER</th>\n",
       "      <th>DUE_DAYS_PLUS</th>\n",
       "      <th>T052_CASH_DISCOUNT_PER_01</th>\n",
       "      <th>AMOUNT_PERCENTAGE_CREDIT_LIMIT</th>\n",
       "      <th>T052_CASH_DISCOUNT_DAY1</th>\n",
       "      <th>T052_CASH_DISCOUNT_DAY2</th>\n",
       "      <th>DAYS_OVER_NET_DUE_DATE</th>\n",
       "      <th>...</th>\n",
       "      <th>Z281</th>\n",
       "      <th>Z286</th>\n",
       "      <th>ZD28</th>\n",
       "      <th>ZD43</th>\n",
       "      <th>ZD45</th>\n",
       "      <th>ZD48</th>\n",
       "      <th>ZD50</th>\n",
       "      <th>ZD91</th>\n",
       "      <th>ZDA4</th>\n",
       "      <th>ZDA5</th>\n",
       "    </tr>\n",
       "  </thead>\n",
       "  <tbody>\n",
       "    <tr>\n",
       "      <th>0</th>\n",
       "      <td>3000123149</td>\n",
       "      <td>21</td>\n",
       "      <td>30</td>\n",
       "      <td>3</td>\n",
       "      <td>30</td>\n",
       "      <td>3</td>\n",
       "      <td>49.05</td>\n",
       "      <td>21</td>\n",
       "      <td>30</td>\n",
       "      <td>-9</td>\n",
       "      <td>...</td>\n",
       "      <td>0.0</td>\n",
       "      <td>0.0</td>\n",
       "      <td>0.0</td>\n",
       "      <td>0.0</td>\n",
       "      <td>0.0</td>\n",
       "      <td>0.0</td>\n",
       "      <td>0.0</td>\n",
       "      <td>0.0</td>\n",
       "      <td>0.0</td>\n",
       "      <td>0.0</td>\n",
       "    </tr>\n",
       "  </tbody>\n",
       "</table>\n",
       "<p>1 rows × 32 columns</p>\n",
       "</div>"
      ],
      "text/plain": [
       "     CUSTOMER  CASH_DISCOUNT_DAY1  CASH_DISCOUNT_DAY2  CASH_DISCOUNT_PER  \\\n",
       "0  3000123149                  21                  30                  3   \n",
       "\n",
       "   DUE_DAYS_PLUS  T052_CASH_DISCOUNT_PER_01  AMOUNT_PERCENTAGE_CREDIT_LIMIT  \\\n",
       "0             30                          3                           49.05   \n",
       "\n",
       "   T052_CASH_DISCOUNT_DAY1  T052_CASH_DISCOUNT_DAY2  DAYS_OVER_NET_DUE_DATE  \\\n",
       "0                       21                       30                      -9   \n",
       "\n",
       "   ...   Z281  Z286  ZD28  ZD43  ZD45  ZD48  ZD50  ZD91  ZDA4  ZDA5  \n",
       "0  ...    0.0   0.0   0.0   0.0   0.0   0.0   0.0   0.0   0.0   0.0  \n",
       "\n",
       "[1 rows x 32 columns]"
      ]
     },
     "execution_count": 8,
     "metadata": {},
     "output_type": "execute_result"
    }
   ],
   "source": [
    "#newdataset['PT00'] = (ZTERMnew == 'PT00')*1.0\n",
    "newdataset['Z201'] = (ZTERMnew == 'Z201')*1.0\n",
    "newdataset['Z203'] = (ZTERMnew == 'Z203')*1.0\n",
    "newdataset['Z225'] = (ZTERMnew == 'Z225')*1.0\n",
    "newdataset['Z226'] = (ZTERMnew == 'Z226')*1.0\n",
    "newdataset['Z231'] = (ZTERMnew == 'Z231')*1.0\n",
    "newdataset['Z232'] = (ZTERMnew == 'Z232')*1.0\n",
    "newdataset['Z233'] = (ZTERMnew == 'Z233')*1.0\n",
    "newdataset['Z234'] = (ZTERMnew == 'Z234')*1.0\n",
    "newdataset['Z281'] = (ZTERMnew == 'Z281')*1.0\n",
    "newdataset['Z286'] = (ZTERMnew == 'Z286')*1.0\n",
    "newdataset['ZD28'] = (ZTERMnew == 'ZD28')*1.0\n",
    "newdataset['ZD43'] = (ZTERMnew == 'ZD43')*1.0\n",
    "newdataset['ZD45'] = (ZTERMnew == 'ZD45')*1.0\n",
    "newdataset['ZD48'] = (ZTERMnew == 'ZD48')*1.0\n",
    "newdataset['ZD50'] = (ZTERMnew == 'ZD50')*1.0\n",
    "newdataset['ZD91'] = (ZTERMnew == 'ZD91')*1.0\n",
    "newdataset['ZDA4'] = (ZTERMnew == 'ZDA4')*1.0\n",
    "newdataset['ZDA5'] = (ZTERMnew == 'ZDA5')*1.0\n",
    "newdataset.tail()"
   ]
  },
  {
   "cell_type": "code",
   "execution_count": 9,
   "metadata": {},
   "outputs": [
    {
     "data": {
      "text/html": [
       "<div>\n",
       "<style scoped>\n",
       "    .dataframe tbody tr th:only-of-type {\n",
       "        vertical-align: middle;\n",
       "    }\n",
       "\n",
       "    .dataframe tbody tr th {\n",
       "        vertical-align: top;\n",
       "    }\n",
       "\n",
       "    .dataframe thead th {\n",
       "        text-align: right;\n",
       "    }\n",
       "</style>\n",
       "<table border=\"1\" class=\"dataframe\">\n",
       "  <thead>\n",
       "    <tr style=\"text-align: right;\">\n",
       "      <th></th>\n",
       "      <th>CUSTOMER</th>\n",
       "      <th>CASH_DISCOUNT_DAY1</th>\n",
       "      <th>CASH_DISCOUNT_DAY2</th>\n",
       "      <th>CASH_DISCOUNT_PER</th>\n",
       "      <th>DUE_DAYS_PLUS</th>\n",
       "      <th>T052_CASH_DISCOUNT_PER_01</th>\n",
       "      <th>AMOUNT_PERCENTAGE_CREDIT_LIMIT</th>\n",
       "      <th>T052_CASH_DISCOUNT_DAY1</th>\n",
       "      <th>T052_CASH_DISCOUNT_DAY2</th>\n",
       "      <th>DAYS_OVER_NET_DUE_DATE</th>\n",
       "      <th>...</th>\n",
       "      <th>Z281</th>\n",
       "      <th>Z286</th>\n",
       "      <th>ZD28</th>\n",
       "      <th>ZD43</th>\n",
       "      <th>ZD45</th>\n",
       "      <th>ZD48</th>\n",
       "      <th>ZD50</th>\n",
       "      <th>ZD91</th>\n",
       "      <th>ZDA4</th>\n",
       "      <th>ZDA5</th>\n",
       "    </tr>\n",
       "  </thead>\n",
       "  <tbody>\n",
       "    <tr>\n",
       "      <th>0</th>\n",
       "      <td>3000123149</td>\n",
       "      <td>21</td>\n",
       "      <td>30</td>\n",
       "      <td>3</td>\n",
       "      <td>30</td>\n",
       "      <td>3</td>\n",
       "      <td>49.05</td>\n",
       "      <td>21</td>\n",
       "      <td>30</td>\n",
       "      <td>-9</td>\n",
       "      <td>...</td>\n",
       "      <td>0.0</td>\n",
       "      <td>0.0</td>\n",
       "      <td>0.0</td>\n",
       "      <td>0.0</td>\n",
       "      <td>0.0</td>\n",
       "      <td>0.0</td>\n",
       "      <td>0.0</td>\n",
       "      <td>0.0</td>\n",
       "      <td>0.0</td>\n",
       "      <td>0.0</td>\n",
       "    </tr>\n",
       "  </tbody>\n",
       "</table>\n",
       "<p>1 rows × 32 columns</p>\n",
       "</div>"
      ],
      "text/plain": [
       "     CUSTOMER  CASH_DISCOUNT_DAY1  CASH_DISCOUNT_DAY2  CASH_DISCOUNT_PER  \\\n",
       "0  3000123149                  21                  30                  3   \n",
       "\n",
       "   DUE_DAYS_PLUS  T052_CASH_DISCOUNT_PER_01  AMOUNT_PERCENTAGE_CREDIT_LIMIT  \\\n",
       "0             30                          3                           49.05   \n",
       "\n",
       "   T052_CASH_DISCOUNT_DAY1  T052_CASH_DISCOUNT_DAY2  DAYS_OVER_NET_DUE_DATE  \\\n",
       "0                       21                       30                      -9   \n",
       "\n",
       "   ...   Z281  Z286  ZD28  ZD43  ZD45  ZD48  ZD50  ZD91  ZDA4  ZDA5  \n",
       "0  ...    0.0   0.0   0.0   0.0   0.0   0.0   0.0   0.0   0.0   0.0  \n",
       "\n",
       "[1 rows x 32 columns]"
      ]
     },
     "execution_count": 9,
     "metadata": {},
     "output_type": "execute_result"
    }
   ],
   "source": [
    "newdataset.head(5)"
   ]
  },
  {
   "cell_type": "code",
   "execution_count": 10,
   "metadata": {},
   "outputs": [],
   "source": [
    "# load tokenizer\n",
    "import pickle\n",
    "with open('LRA_tokenizer.pickle', 'rb') as handle:\n",
    "    train_stats = pickle.load(handle)"
   ]
  },
  {
   "cell_type": "code",
   "execution_count": 11,
   "metadata": {},
   "outputs": [],
   "source": [
    "def normnew(x):\n",
    "  return (x - train_stats['mean']) / train_stats['std'] \n",
    "new_normed_test_data = normnew(newdataset)"
   ]
  },
  {
   "cell_type": "code",
   "execution_count": 12,
   "metadata": {},
   "outputs": [
    {
     "data": {
      "text/html": [
       "<div>\n",
       "<style scoped>\n",
       "    .dataframe tbody tr th:only-of-type {\n",
       "        vertical-align: middle;\n",
       "    }\n",
       "\n",
       "    .dataframe tbody tr th {\n",
       "        vertical-align: top;\n",
       "    }\n",
       "\n",
       "    .dataframe thead th {\n",
       "        text-align: right;\n",
       "    }\n",
       "</style>\n",
       "<table border=\"1\" class=\"dataframe\">\n",
       "  <thead>\n",
       "    <tr style=\"text-align: right;\">\n",
       "      <th></th>\n",
       "      <th>CUSTOMER</th>\n",
       "      <th>CASH_DISCOUNT_DAY1</th>\n",
       "      <th>CASH_DISCOUNT_DAY2</th>\n",
       "      <th>CASH_DISCOUNT_PER</th>\n",
       "      <th>DUE_DAYS_PLUS</th>\n",
       "      <th>T052_CASH_DISCOUNT_PER_01</th>\n",
       "      <th>AMOUNT_PERCENTAGE_CREDIT_LIMIT</th>\n",
       "      <th>T052_CASH_DISCOUNT_DAY1</th>\n",
       "      <th>T052_CASH_DISCOUNT_DAY2</th>\n",
       "      <th>DAYS_OVER_NET_DUE_DATE</th>\n",
       "      <th>...</th>\n",
       "      <th>Z281</th>\n",
       "      <th>Z286</th>\n",
       "      <th>ZD28</th>\n",
       "      <th>ZD43</th>\n",
       "      <th>ZD45</th>\n",
       "      <th>ZD48</th>\n",
       "      <th>ZD50</th>\n",
       "      <th>ZD91</th>\n",
       "      <th>ZDA4</th>\n",
       "      <th>ZDA5</th>\n",
       "    </tr>\n",
       "  </thead>\n",
       "  <tbody>\n",
       "    <tr>\n",
       "      <th>0</th>\n",
       "      <td>-0.121993</td>\n",
       "      <td>-0.226356</td>\n",
       "      <td>-0.558578</td>\n",
       "      <td>7.746804</td>\n",
       "      <td>-0.558578</td>\n",
       "      <td>7.746804</td>\n",
       "      <td>7.742132</td>\n",
       "      <td>-0.226356</td>\n",
       "      <td>-0.558578</td>\n",
       "      <td>1.547399</td>\n",
       "      <td>...</td>\n",
       "      <td>-0.079114</td>\n",
       "      <td>-0.256836</td>\n",
       "      <td>-0.973629</td>\n",
       "      <td>-0.025266</td>\n",
       "      <td>-0.302614</td>\n",
       "      <td>-0.131136</td>\n",
       "      <td>-0.033432</td>\n",
       "      <td>-0.24826</td>\n",
       "      <td>-0.135474</td>\n",
       "      <td>-0.04379</td>\n",
       "    </tr>\n",
       "  </tbody>\n",
       "</table>\n",
       "<p>1 rows × 32 columns</p>\n",
       "</div>"
      ],
      "text/plain": [
       "   CUSTOMER  CASH_DISCOUNT_DAY1  CASH_DISCOUNT_DAY2  CASH_DISCOUNT_PER  \\\n",
       "0 -0.121993           -0.226356           -0.558578           7.746804   \n",
       "\n",
       "   DUE_DAYS_PLUS  T052_CASH_DISCOUNT_PER_01  AMOUNT_PERCENTAGE_CREDIT_LIMIT  \\\n",
       "0      -0.558578                   7.746804                        7.742132   \n",
       "\n",
       "   T052_CASH_DISCOUNT_DAY1  T052_CASH_DISCOUNT_DAY2  DAYS_OVER_NET_DUE_DATE  \\\n",
       "0                -0.226356                -0.558578                1.547399   \n",
       "\n",
       "    ...         Z281      Z286      ZD28      ZD43      ZD45      ZD48  \\\n",
       "0   ...    -0.079114 -0.256836 -0.973629 -0.025266 -0.302614 -0.131136   \n",
       "\n",
       "       ZD50     ZD91      ZDA4     ZDA5  \n",
       "0 -0.033432 -0.24826 -0.135474 -0.04379  \n",
       "\n",
       "[1 rows x 32 columns]"
      ]
     },
     "execution_count": 12,
     "metadata": {},
     "output_type": "execute_result"
    }
   ],
   "source": [
    "new_normed_test_data[:10]"
   ]
  },
  {
   "cell_type": "code",
   "execution_count": 13,
   "metadata": {},
   "outputs": [
    {
     "data": {
      "text/plain": [
       "array([[-1.21992971e-01, -2.26355825e-01, -5.58578435e-01,\n",
       "         7.74680444e+00, -5.58578435e-01,  7.74680444e+00,\n",
       "         7.74213205e+00, -2.26355825e-01, -5.58578435e-01,\n",
       "         1.54739878e+00,  1.54739878e+00, -4.70496333e-01,\n",
       "         5.19548777e+00,  5.19548777e+00, -1.12236020e-01,\n",
       "        -2.34191589e-01,  2.99070014e+01, -1.01551058e-01,\n",
       "        -2.37582250e-01, -1.80107829e-01, -3.14702233e-01,\n",
       "        -1.18620701e-01, -7.91140540e-02, -2.56835843e-01,\n",
       "        -9.73628870e-01, -2.52659026e-02, -3.02613865e-01,\n",
       "        -1.31136083e-01, -3.34316528e-02, -2.48259628e-01,\n",
       "        -1.35473788e-01, -4.37897942e-02]])"
      ]
     },
     "execution_count": 13,
     "metadata": {},
     "output_type": "execute_result"
    }
   ],
   "source": [
    "Xnew_data = np.array(new_normed_test_data)\n",
    "Xnew_data"
   ]
  },
  {
   "cell_type": "code",
   "execution_count": 14,
   "metadata": {},
   "outputs": [
    {
     "name": "stderr",
     "output_type": "stream",
     "text": [
      "WARNING: Logging before flag parsing goes to stderr.\n",
      "W0916 08:35:31.283066  8848 deprecation.py:506] From C:\\Users\\gunawf01\\AppData\\Local\\Continuum\\anaconda3\\envs\\tfdeeplearning\\lib\\site-packages\\tensorflow\\python\\ops\\init_ops.py:97: calling GlorotUniform.__init__ (from tensorflow.python.ops.init_ops) with dtype is deprecated and will be removed in a future version.\n",
      "Instructions for updating:\n",
      "Call initializer instance with the dtype argument instead of passing it to the constructor\n",
      "W0916 08:35:31.288069  8848 deprecation.py:506] From C:\\Users\\gunawf01\\AppData\\Local\\Continuum\\anaconda3\\envs\\tfdeeplearning\\lib\\site-packages\\tensorflow\\python\\ops\\init_ops.py:1251: calling VarianceScaling.__init__ (from tensorflow.python.ops.init_ops) with dtype is deprecated and will be removed in a future version.\n",
      "Instructions for updating:\n",
      "Call initializer instance with the dtype argument instead of passing it to the constructor\n",
      "W0916 08:35:31.297076  8848 deprecation.py:506] From C:\\Users\\gunawf01\\AppData\\Local\\Continuum\\anaconda3\\envs\\tfdeeplearning\\lib\\site-packages\\tensorflow\\python\\ops\\init_ops.py:97: calling Zeros.__init__ (from tensorflow.python.ops.init_ops) with dtype is deprecated and will be removed in a future version.\n",
      "Instructions for updating:\n",
      "Call initializer instance with the dtype argument instead of passing it to the constructor\n"
     ]
    }
   ],
   "source": [
    "from tensorflow.keras.models import model_from_json\n",
    "\n",
    "# Model reconstruction from JSON file\n",
    "with open('LRA_model_architecture.json', 'r') as f:\n",
    "    model = model_from_json(f.read())\n",
    "\n",
    "# Load weights into the new model\n",
    "model.load_weights('LRA.h5')"
   ]
  },
  {
   "cell_type": "code",
   "execution_count": 15,
   "metadata": {},
   "outputs": [
    {
     "data": {
      "text/plain": [
       "21.591074"
      ]
     },
     "execution_count": 15,
     "metadata": {},
     "output_type": "execute_result"
    }
   ],
   "source": [
    "new_test_predictions = model.predict(Xnew_data).flatten()\n",
    "new_test_predictions[0]"
   ]
  },
  {
   "cell_type": "code",
   "execution_count": null,
   "metadata": {},
   "outputs": [],
   "source": []
  }
 ],
 "metadata": {
  "kernelspec": {
   "display_name": "Python 3",
   "language": "python",
   "name": "python3"
  },
  "language_info": {
   "codemirror_mode": {
    "name": "ipython",
    "version": 3
   },
   "file_extension": ".py",
   "mimetype": "text/x-python",
   "name": "python",
   "nbconvert_exporter": "python",
   "pygments_lexer": "ipython3",
   "version": "3.6.4"
  }
 },
 "nbformat": 4,
 "nbformat_minor": 2
}
